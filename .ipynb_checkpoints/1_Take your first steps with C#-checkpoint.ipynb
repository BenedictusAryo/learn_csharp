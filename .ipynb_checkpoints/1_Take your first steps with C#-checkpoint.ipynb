{
 "cells": [
  {
   "cell_type": "markdown",
   "id": "460d6f4c-8276-41cc-b82f-0cf68a61424a",
   "metadata": {},
   "source": [
    "# Take your first steps with C#\n",
    "\n",
    "https://docs.microsoft.com/en-us/learn/paths/csharp-first-steps/\n",
    "\n",
    "\n",
    "## Write your first line of code\n",
    "There's a long standing tradition among software developers to print the phrase \"Hello World!\" to a command line or console window. As you'll see, you can learn a lot about programming and the C# programming language from this simple exercise."
   ]
  },
  {
   "cell_type": "code",
   "execution_count": 1,
   "id": "10ce1419-bb43-47e0-9ab4-b3099fcd5d57",
   "metadata": {},
   "outputs": [
    {
     "data": {
      "text/html": [
       "\r\n",
       "<div>\r\n",
       "    <div id='dotnet-interactive-this-cell-9704.Microsoft.DotNet.Interactive.Http.HttpPort' style='display: none'>\r\n",
       "        The below script needs to be able to find the current output cell; this is an easy method to get it.\r\n",
       "    </div>\r\n",
       "    <script type='text/javascript'>\r\n",
       "async function probeAddresses(probingAddresses) {\r\n",
       "    function timeout(ms, promise) {\r\n",
       "        return new Promise(function (resolve, reject) {\r\n",
       "            setTimeout(function () {\r\n",
       "                reject(new Error('timeout'))\r\n",
       "            }, ms)\r\n",
       "            promise.then(resolve, reject)\r\n",
       "        })\r\n",
       "    }\r\n",
       "\r\n",
       "    if (Array.isArray(probingAddresses)) {\r\n",
       "        for (let i = 0; i < probingAddresses.length; i++) {\r\n",
       "\r\n",
       "            let rootUrl = probingAddresses[i];\r\n",
       "\r\n",
       "            if (!rootUrl.endsWith('/')) {\r\n",
       "                rootUrl = `${rootUrl}/`;\r\n",
       "            }\r\n",
       "\r\n",
       "            try {\r\n",
       "                let response = await timeout(1000, fetch(`${rootUrl}discovery`, {\r\n",
       "                    method: 'POST',\r\n",
       "                    cache: 'no-cache',\r\n",
       "                    mode: 'cors',\r\n",
       "                    timeout: 1000,\r\n",
       "                    headers: {\r\n",
       "                        'Content-Type': 'text/plain'\r\n",
       "                    },\r\n",
       "                    body: probingAddresses[i]\r\n",
       "                }));\r\n",
       "\r\n",
       "                if (response.status == 200) {\r\n",
       "                    return rootUrl;\r\n",
       "                }\r\n",
       "            }\r\n",
       "            catch (e) { }\r\n",
       "        }\r\n",
       "    }\r\n",
       "}\r\n",
       "\r\n",
       "function loadDotnetInteractiveApi() {\r\n",
       "    probeAddresses([\"http://192.168.56.1:1000/\", \"http://192.168.0.108:1000/\", \"http://127.0.0.1:1000/\"])\r\n",
       "        .then((root) => {\r\n",
       "        // use probing to find host url and api resources\r\n",
       "        // load interactive helpers and language services\r\n",
       "        let dotnetInteractiveRequire = require.config({\r\n",
       "        context: '9704.Microsoft.DotNet.Interactive.Http.HttpPort',\r\n",
       "                paths:\r\n",
       "            {\r\n",
       "                'dotnet-interactive': `${root}resources`\r\n",
       "                }\r\n",
       "        }) || require;\r\n",
       "\r\n",
       "            window.dotnetInteractiveRequire = dotnetInteractiveRequire;\r\n",
       "\r\n",
       "            window.configureRequireFromExtension = function(extensionName, extensionCacheBuster) {\r\n",
       "                let paths = {};\r\n",
       "                paths[extensionName] = `${root}extensions/${extensionName}/resources/`;\r\n",
       "                \r\n",
       "                let internalRequire = require.config({\r\n",
       "                    context: extensionCacheBuster,\r\n",
       "                    paths: paths,\r\n",
       "                    urlArgs: `cacheBuster=${extensionCacheBuster}`\r\n",
       "                    }) || require;\r\n",
       "\r\n",
       "                return internalRequire\r\n",
       "            };\r\n",
       "        \r\n",
       "            dotnetInteractiveRequire([\r\n",
       "                    'dotnet-interactive/dotnet-interactive'\r\n",
       "                ],\r\n",
       "                function (dotnet) {\r\n",
       "                    dotnet.init(window);\r\n",
       "                },\r\n",
       "                function (error) {\r\n",
       "                    console.log(error);\r\n",
       "                }\r\n",
       "            );\r\n",
       "        })\r\n",
       "        .catch(error => {console.log(error);});\r\n",
       "    }\r\n",
       "\r\n",
       "// ensure `require` is available globally\r\n",
       "if ((typeof(require) !==  typeof(Function)) || (typeof(require.config) !== typeof(Function))) {\r\n",
       "    let require_script = document.createElement('script');\r\n",
       "    require_script.setAttribute('src', 'https://cdnjs.cloudflare.com/ajax/libs/require.js/2.3.6/require.min.js');\r\n",
       "    require_script.setAttribute('type', 'text/javascript');\r\n",
       "    \r\n",
       "    \r\n",
       "    require_script.onload = function() {\r\n",
       "        loadDotnetInteractiveApi();\r\n",
       "    };\r\n",
       "\r\n",
       "    document.getElementsByTagName('head')[0].appendChild(require_script);\r\n",
       "}\r\n",
       "else {\r\n",
       "    loadDotnetInteractiveApi();\r\n",
       "}\r\n",
       "\r\n",
       "    </script>\r\n",
       "</div>"
      ]
     },
     "metadata": {},
     "output_type": "display_data"
    },
    {
     "name": "stdout",
     "output_type": "stream",
     "text": [
      "Hello World\n"
     ]
    }
   ],
   "source": [
    "Console.WriteLine(\"Hello World\");"
   ]
  },
  {
   "cell_type": "markdown",
   "id": "ba923c03-e478-46f9-8144-65db2626ab4a",
   "metadata": {},
   "source": [
    "## What to do if you see an error message\n",
    "Writing C# code is an exercise in precision. If you enter just one character incorrectly, you'll see an error message in the Output area when you run the code.\n",
    "\n",
    "For example, if you were to incorrectly enter a lower-case c in the word console like so:"
   ]
  },
  {
   "cell_type": "code",
   "execution_count": 3,
   "id": "0a7eb6db-0b1d-4d9c-a463-6a09a3e8059c",
   "metadata": {},
   "outputs": [
    {
     "name": "stderr",
     "output_type": "stream",
     "text": [
      "\n",
      "(1,1): error CS0103: The name 'console' does not exist in the current context\n",
      "\n"
     ]
    },
    {
     "ename": "Cell not executed",
     "evalue": "compilation error",
     "output_type": "error",
     "traceback": []
    }
   ],
   "source": [
    "console.WriteLine(\"Hello World!\");"
   ]
  },
  {
   "cell_type": "markdown",
   "id": "acaf1a68-830c-4fb4-808c-9f525997ddc8",
   "metadata": {},
   "source": [
    "The first part (1,1) indicates the line and column where the error occurred. But what does this error message mean?\n",
    "\n",
    "C# is a case-sensitive language, meaning that the C# compiler considers the words console and Console as different as the words cat and dog. Sometimes the error message can be a bit misleading. You'll need to understand the true reason why the error exists, and that comes through learning more about C#'s syntax.\n",
    "\n",
    "Similarly, if you used single-quotation marks to surround the literal string `'Hello World!'` like so:"
   ]
  },
  {
   "cell_type": "code",
   "execution_count": 4,
   "id": "9b839a05-8746-44c5-b57f-88581e8b5740",
   "metadata": {},
   "outputs": [
    {
     "name": "stderr",
     "output_type": "stream",
     "text": [
      "\n",
      "(1,19): error CS1012: Too many characters in character literal\n",
      "\n"
     ]
    },
    {
     "ename": "Cell not executed",
     "evalue": "compilation error",
     "output_type": "error",
     "traceback": []
    }
   ],
   "source": [
    "Console.WriteLine('Hello World!');"
   ]
  },
  {
   "cell_type": "markdown",
   "id": "e08f96b8-ce1c-43b8-96e7-f5ecba857b7c",
   "metadata": {},
   "source": [
    "**Common mistakes new programmers make:**\n",
    "\n",
    "* Entering lower-case letters instead of capitalizing C in Console, or the letters W or L in WriteLine.\n",
    "* Entering a comma instead of a period between Console and WriteLine.\n",
    "* Forgetting double-quotation marks, or using single-quotation to surround the phrase Hello World!.\n",
    "* Forgetting a semi-colon at the end of the command.\n",
    "\n",
    "Each of these mistakes prevents your code from compiling successfully."
   ]
  },
  {
   "cell_type": "markdown",
   "id": "de5b1d46-ca23-47f6-bec5-3f673a4fa7b8",
   "metadata": {},
   "source": [
    "## Comment out the previous line of code, then add new lines of code in the .NET Editor to print a new message\n",
    "\n",
    "Modify the code you wrote so that it is prefixed by a code comment using two forward slashes `//` , and add new lines of code to match the following code snippet:"
   ]
  },
  {
   "cell_type": "code",
   "execution_count": 6,
   "id": "c16945e2-eeea-4cb3-be18-82a066ec195c",
   "metadata": {},
   "outputs": [
    {
     "name": "stdout",
     "output_type": "stream",
     "text": [
      "Congratulations! You Wrote your first lines of code!"
     ]
    }
   ],
   "source": [
    "// Console.WriteLine(\"Hello World!\");\n",
    "\n",
    "Console.Write(\"Congratulations!\");\n",
    "Console.Write(\" \");\n",
    "Console.Write(\"You Wrote your first lines of code!\");"
   ]
  },
  {
   "cell_type": "markdown",
   "id": "5b413a85-a334-4eca-96a6-f2d3da5798f4",
   "metadata": {},
   "source": [
    "You create a code comment by prefixing a line of code with a two forward slashes `//`. This instructs the compiler to ignore all the instructions on that line. Code comments are helpful when you're not ready to delete the code yet, but you want to ignore it for now. You can also use code comments to add messages to yourself that reminds you what the code is doing. We'll talk about code comments in an upcoming module.\n",
    "\n",
    "The three new lines of code you added demonstrated the difference between the **`Console.WriteLine()`** and **`Console.Write()`** methods. Admittedly, the new lines of code you added could easily be shortened to a single line of code like you wrote in step 1. However, you wanted to learn a second technique to print a message to the output console.\n",
    "\n",
    "To print an entire message to the output console, the first technique used **`Console.WriteLine()`**. At the end of the line, it added a line feed similar to how to create a new line of text by pressing Enter or Return.\n",
    "\n",
    "To print to the output console, but at the end, not adding a line feed, the second technique used **`Console.Write()`**. So, the next call to **`Console.Write()`** prints an additional message to the same line.\n",
    "\n",
    "Beyond two techniques for printing messages to the output console, there's more to learn from this exercise. What do all of these words and symbols mean?"
   ]
  },
  {
   "cell_type": "markdown",
   "id": "ea6210a5-4036-46d9-9adc-f23c18916294",
   "metadata": {},
   "source": [
    "___\n",
    "\n",
    "## Challenge\n",
    "\n",
    "Code challenges throughout these modules will reinforce what you've learned and help you gain some confidence before continuing on.\n",
    "\n",
    "Use the two different techniques to print the two lines of the output. In other words, you learned how to display a message in just one line of code, and you learned how to display a message using multiple lines of code. Use both techniques for this challenge. It doesn't matter which technique you apply to which line, and it doesn't matter how many ways you split one of the messages into multiple lines of code. That's your choice.\n",
    "\n",
    "No matter how you do it, your code should produce the following output.\n",
    "\n",
    "Output\n",
    "\n",
    "```\n",
    "This is the first line.\n",
    "This is the second line.\n",
    "```\n",
    "\n",
    "Whether you get stuck and need to peek at the solution or you finish successfully, continue on to view a solution to this challenge."
   ]
  },
  {
   "cell_type": "code",
   "execution_count": 8,
   "id": "39e9908b-6243-4cc9-996a-99e27c937230",
   "metadata": {},
   "outputs": [
    {
     "name": "stdout",
     "output_type": "stream",
     "text": [
      "This is the first line.\n",
      "This is the second line."
     ]
    }
   ],
   "source": [
    "Console.WriteLine(\"This is the first line.\");\n",
    "// Console.WriteLine(\"This is the second line.\");\n",
    "\n",
    "Console.Write(\"This is \");\n",
    "Console.Write(\"the second \");\n",
    "Console.Write(\"line.\");"
   ]
  },
  {
   "cell_type": "markdown",
   "id": "51d4d44f-8df6-4033-bfae-8ea663384f34",
   "metadata": {},
   "source": [
    "Learn more with a Channel 9 video series\n",
    "\n",
    "* [C# 101](https://channel9.msdn.com/Series/CSharp-101/?WT.mc_id=Educationalcsharp-c9-scottha)\n",
    "\n",
    "* [C# Advanced](https://channel9.msdn.com/Series/C-Advanced/?&WT.mc_id=EducationalAdvancedCsharp-c9-niner)"
   ]
  },
  {
   "cell_type": "code",
   "execution_count": null,
   "id": "384cb58f-1c61-4c27-ab65-62e199f73938",
   "metadata": {},
   "outputs": [],
   "source": []
  }
 ],
 "metadata": {
  "kernelspec": {
   "display_name": ".NET (C#)",
   "language": "C#",
   "name": ".net-csharp"
  },
  "language_info": {
   "file_extension": ".cs",
   "mimetype": "text/x-csharp",
   "name": "C#",
   "pygments_lexer": "csharp",
   "version": "9.0"
  }
 },
 "nbformat": 4,
 "nbformat_minor": 5
}
