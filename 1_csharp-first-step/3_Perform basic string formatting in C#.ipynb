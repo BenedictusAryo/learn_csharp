{
 "cells": [
  {
   "cell_type": "markdown",
   "id": "4f5a4957-ab31-4590-824d-b09b42e4b1c5",
   "metadata": {},
   "source": [
    "# Perform basic string formatting in C#\n",
    "\n",
    "Source: https://docs.microsoft.com/en-us/learn/modules/csharp-basic-formatting/1-introduction\n",
    "\n",
    "As a software developer, you'll need to write C# code to combine and format literal and variable data to create a new value. That value might be displayed, saved to file or sent across the network. Fortunately, C# provides many ways to combine and format data.\n",
    "\n",
    "Suppose you want to display the output of a command-line application you're writing. You want to display values including literal text, text in variables, numeric data, and textual data in other languages. How would you format it correctly so that the user can understand what your application is communicating to them?\n",
    "\n",
    "In this module, you'll use character escape sequences to format literal strings of text to include special characters including tabs and line feeds -- even characters from different languages like Kanji or Cyrillic script! You'll learn how to concatenate two strings together, and will use string interpolation to create a literal string template with replaceable parts.\n",
    "\n",
    "By the end of this module, you'll be able to control how your data is displayed to end users of your applications."
   ]
  },
  {
   "cell_type": "markdown",
   "id": "3b1c0268-7801-4725-b049-1d52768bb99a",
   "metadata": {},
   "source": [
    "## Character Escape Sequences\n",
    "\n",
    "An **escape character** sequence is a special instruction to the runtime that you want to insert a special character that will affect the output of your string. In C#, the escape character sequences begin with a backslash `\\` and then include another character. For example, the `\\n` sequence will add a new line, and a `\\t` sequence will add a tab.\n",
    "\n",
    "The following code uses escape character sequences to add whitespace."
   ]
  },
  {
   "cell_type": "code",
   "execution_count": 1,
   "id": "819b1394-7d9d-4b8d-a7af-df4594bbc3a8",
   "metadata": {},
   "outputs": [
    {
     "name": "stdout",
     "output_type": "stream",
     "text": [
      "Hello\n",
      "World!\n",
      "Hello\tWorld!\n"
     ]
    }
   ],
   "source": [
    "// New Line\n",
    "Console.WriteLine(\"Hello\\nWorld!\");\n",
    "\n",
    "// Tab\n",
    "Console.WriteLine(\"Hello\\tWorld!\");"
   ]
  },
  {
   "cell_type": "code",
   "execution_count": null,
   "id": "f59af8e8-00db-4716-b4cf-06f7da2568c8",
   "metadata": {},
   "outputs": [],
   "source": []
  }
 ],
 "metadata": {
  "kernelspec": {
   "display_name": ".NET (C#)",
   "language": "C#",
   "name": ".net-csharp"
  },
  "language_info": {
   "file_extension": ".cs",
   "mimetype": "text/x-csharp",
   "name": "C#",
   "pygments_lexer": "csharp",
   "version": "9.0"
  }
 },
 "nbformat": 4,
 "nbformat_minor": 5
}
