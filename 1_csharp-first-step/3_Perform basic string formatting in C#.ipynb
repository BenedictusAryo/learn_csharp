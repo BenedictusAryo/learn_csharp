{
 "cells": [
  {
   "cell_type": "markdown",
   "metadata": {},
   "source": [
    "# Perform basic string formatting in C#\n",
    "\n",
    "Source: https://docs.microsoft.com/en-us/learn/modules/csharp-basic-formatting/1-introduction\n",
    "\n",
    "As a software developer, you'll need to write C# code to combine and format literal and variable data to create a new value. That value might be displayed, saved to file or sent across the network. Fortunately, C# provides many ways to combine and format data.\n",
    "\n",
    "Suppose you want to display the output of a command-line application you're writing. You want to display values including literal text, text in variables, numeric data, and textual data in other languages. How would you format it correctly so that the user can understand what your application is communicating to them?\n",
    "\n",
    "In this module, you'll use character escape sequences to format literal strings of text to include special characters including tabs and line feeds -- even characters from different languages like Kanji or Cyrillic script! You'll learn how to concatenate two strings together, and will use string interpolation to create a literal string template with replaceable parts.\n",
    "\n",
    "By the end of this module, you'll be able to control how your data is displayed to end users of your applications."
   ]
  },
  {
   "cell_type": "markdown",
   "metadata": {},
   "source": [
    "## Character Escape Sequences\n",
    "\n",
    "An **escape character** sequence is a special instruction to the runtime that you want to insert a special character that will affect the output of your string. In C#, the escape character sequences begin with a backslash `\\` and then include another character. For example, the `\\n` sequence will add a new line, and a `\\t` sequence will add a tab.\n",
    "\n",
    "The following code uses escape character sequences to add whitespace."
   ]
  },
  {
   "cell_type": "code",
   "execution_count": null,
   "metadata": {
    "dotnet_interactive": {
     "language": "csharp"
    }
   },
   "outputs": [
    {
     "data": {
      "text/plain": [
       "Hello\n",
       "World!\r\n"
      ]
     },
     "output_type": "unknown"
    },
    {
     "data": {
      "text/plain": [
       "Hello\tWorld!\r\n"
      ]
     },
     "output_type": "unknown"
    }
   ],
   "source": [
    "// New Line\n",
    "Console.WriteLine(\"Hello\\nWorld!\");\n",
    "\n",
    "// Tab\n",
    "Console.WriteLine(\"Hello\\tWorld!\");"
   ]
  },
  {
   "cell_type": "markdown",
   "metadata": {},
   "source": [
    "What if you need to insert a double-quotation mark in a literal string? If you don't use the character escape sequence, you'll confuse the compiler because it will think you want to terminate the string prematurely ... and will not understand the purpose of the characters after the second double-quotation mark."
   ]
  },
  {
   "cell_type": "code",
   "execution_count": null,
   "metadata": {
    "dotnet_interactive": {
     "language": "csharp"
    }
   },
   "outputs": [
    {
     "data": {
      "application/vnd.code.notebook.error": {
       "message": "(1,27): error CS1003: Syntax error, ',' expected\r\n(1,32): error CS1003: Syntax error, ',' expected",
       "name": "Error"
      }
     },
     "output_type": "unknown"
    }
   ],
   "source": [
    "Console.WriteLine(\"Hello \"World\"!\");"
   ]
  },
  {
   "cell_type": "markdown",
   "metadata": {},
   "source": [
    "To handle that situation, use the \\\" escape sequence."
   ]
  },
  {
   "cell_type": "code",
   "execution_count": null,
   "metadata": {
    "dotnet_interactive": {
     "language": "csharp"
    }
   },
   "outputs": [
    {
     "data": {
      "text/plain": [
       "Hello \"World\"!\r\n"
      ]
     },
     "output_type": "unknown"
    }
   ],
   "source": [
    "Console.WriteLine(\"Hello \\\"World\\\"!\");"
   ]
  },
  {
   "cell_type": "markdown",
   "metadata": {},
   "source": [
    "What if you need to use the backslash for other purposes, like to display a file path?"
   ]
  },
  {
   "cell_type": "code",
   "execution_count": null,
   "metadata": {
    "dotnet_interactive": {
     "language": "csharp"
    }
   },
   "outputs": [
    {
     "data": {
      "application/vnd.code.notebook.error": {
       "message": "(1,22): error CS1009: Unrecognized escape sequence",
       "name": "Error"
      }
     },
     "output_type": "unknown"
    }
   ],
   "source": [
    "Console.WriteLine(\"c:\\source\\repos\");"
   ]
  },
  {
   "cell_type": "markdown",
   "metadata": {},
   "source": [
    "The problem is the sequence `\\s`. The `\\r` doesn't produce an error because it is a valid escape sequence for a carriage return. However, it's unlikely that you would want to use a carriage return in this context.\n",
    "\n",
    "To solve the problem, you use the `\\\\` to display a single backslash."
   ]
  },
  {
   "cell_type": "code",
   "execution_count": null,
   "metadata": {
    "dotnet_interactive": {
     "language": "csharp"
    }
   },
   "outputs": [
    {
     "data": {
      "text/plain": [
       "c:\\source\\repos\r\n"
      ]
     },
     "output_type": "unknown"
    }
   ],
   "source": [
    "Console.WriteLine(\"c:\\\\source\\\\repos\");"
   ]
  },
  {
   "cell_type": "markdown",
   "metadata": {},
   "source": [
    "## Format the output of the command-line application using character escape sequences\n",
    "\n",
    "To create the mockup of our command line tool, add the following code in the editor."
   ]
  },
  {
   "cell_type": "code",
   "execution_count": null,
   "metadata": {
    "dotnet_interactive": {
     "language": "csharp"
    }
   },
   "outputs": [
    {
     "data": {
      "text/plain": [
       "Generating invoices for customer \"ABC Corp\" ...\n",
       "\r\n"
      ]
     },
     "output_type": "unknown"
    },
    {
     "data": {
      "text/plain": [
       "Invoice: 1021\t\tComplete!\r\n"
      ]
     },
     "output_type": "unknown"
    },
    {
     "data": {
      "text/plain": [
       "Invoice: 1022\t\tComplete!\r\n"
      ]
     },
     "output_type": "unknown"
    },
    {
     "data": {
      "text/plain": [
       "\n",
       "Output Directory:\t\r\n"
      ]
     },
     "output_type": "unknown"
    }
   ],
   "source": [
    "Console.WriteLine(\"Generating invoices for customer \\\"ABC Corp\\\" ...\\n\");\n",
    "Console.WriteLine(\"Invoice: 1021\\t\\tComplete!\");\n",
    "Console.WriteLine(\"Invoice: 1022\\t\\tComplete!\");\n",
    "Console.WriteLine(\"\\nOutput Directory:\\t\");"
   ]
  },
  {
   "cell_type": "markdown",
   "metadata": {},
   "source": [
    "## Verbatim String Literal\n",
    "\n",
    "A verbatim string literal will keep all whitespace and characters without the need to escape the backslash. To create a verbatim string, use the `@` directive before the literal string."
   ]
  },
  {
   "cell_type": "code",
   "execution_count": null,
   "metadata": {
    "dotnet_interactive": {
     "language": "csharp"
    }
   },
   "outputs": [
    {
     "data": {
      "text/plain": [
       "   c:\\source\\repos\n",
       "    (this is where your code goes)\r\n"
      ]
     },
     "output_type": "unknown"
    }
   ],
   "source": [
    "Console.WriteLine(@\"   c:\\source\\repos\n",
    "    (this is where your code goes)\");"
   ]
  },
  {
   "cell_type": "markdown",
   "metadata": {},
   "source": [
    "## Format the output of the command-line application using a verbatim literal string"
   ]
  },
  {
   "cell_type": "code",
   "execution_count": null,
   "metadata": {
    "dotnet_interactive": {
     "language": "csharp"
    }
   },
   "outputs": [
    {
     "data": {
      "text/plain": [
       "Generating invoices for customer \"ABC Corp\" ...\n",
       "\r\n"
      ]
     },
     "output_type": "unknown"
    },
    {
     "data": {
      "text/plain": [
       "Invoice: 1021\t\tComplete!\r\n"
      ]
     },
     "output_type": "unknown"
    },
    {
     "data": {
      "text/plain": [
       "Invoice: 1022\t\tComplete!\r\n"
      ]
     },
     "output_type": "unknown"
    },
    {
     "data": {
      "text/plain": [
       "\n",
       "Output Directory:\t\r\n"
      ]
     },
     "output_type": "unknown"
    },
    {
     "data": {
      "text/plain": [
       "c:\\invoices"
      ]
     },
     "output_type": "unknown"
    }
   ],
   "source": [
    "Console.WriteLine(\"Generating invoices for customer \\\"ABC Corp\\\" ...\\n\");\n",
    "Console.WriteLine(\"Invoice: 1021\\t\\tComplete!\");\n",
    "Console.WriteLine(\"Invoice: 1022\\t\\tComplete!\");\n",
    "Console.WriteLine(\"\\nOutput Directory:\\t\");\n",
    "Console.Write(@\"c:\\invoices\");"
   ]
  },
  {
   "cell_type": "markdown",
   "metadata": {},
   "source": [
    "## Unicode Escape Characters\n",
    "\n",
    "You can also add encoded characters in literal strings using the `\\u` escape sequence, then a four-character code representing some character in Unicode (UTF-16)."
   ]
  },
  {
   "cell_type": "code",
   "execution_count": null,
   "metadata": {
    "dotnet_interactive": {
     "language": "csharp"
    }
   },
   "outputs": [
    {
     "data": {
      "text/plain": [
       "こんにちは World!\r\n"
      ]
     },
     "output_type": "unknown"
    }
   ],
   "source": [
    "// Kon'nichiwa World\n",
    "Console.WriteLine(\"\\u3053\\u3093\\u306B\\u3061\\u306F World!\");"
   ]
  },
  {
   "cell_type": "markdown",
   "metadata": {},
   "source": [
    "## Format the output of the command-line application using unicode escape characters\n",
    "\n",
    "To complete the mocked up command-line user interface, we'll add a phrase in Japanese that translates to \"To generate Japanese invoices\", then provides a verbatim literal string with the application executable with a flag. We'll also add some escape sequences for formatting.\n",
    "\n",
    "Add the following code to your application."
   ]
  },
  {
   "cell_type": "code",
   "execution_count": null,
   "metadata": {
    "dotnet_interactive": {
     "language": "csharp"
    }
   },
   "outputs": [
    {
     "data": {
      "text/plain": [
       "Generating invoices for customer \"ABC Corp\" ...\n",
       "\r\n"
      ]
     },
     "output_type": "unknown"
    },
    {
     "data": {
      "text/plain": [
       "Invoice: 1021\t\tComplete!\r\n"
      ]
     },
     "output_type": "unknown"
    },
    {
     "data": {
      "text/plain": [
       "Invoice: 1022\t\tComplete!\r\n"
      ]
     },
     "output_type": "unknown"
    },
    {
     "data": {
      "text/plain": [
       "\n",
       "Output Directory:\t\r\n"
      ]
     },
     "output_type": "unknown"
    },
    {
     "data": {
      "text/plain": [
       "c:\\invoices"
      ]
     },
     "output_type": "unknown"
    },
    {
     "data": {
      "text/plain": [
       "\n",
       "\n",
       "日本の請求書を生成するには：\n",
       "\t"
      ]
     },
     "output_type": "unknown"
    },
    {
     "data": {
      "text/plain": [
       "c:\\invoices\\app.exe -j\r\n"
      ]
     },
     "output_type": "unknown"
    }
   ],
   "source": [
    "Console.WriteLine(\"Generating invoices for customer \\\"ABC Corp\\\" ...\\n\");\n",
    "Console.WriteLine(\"Invoice: 1021\\t\\tComplete!\");\n",
    "Console.WriteLine(\"Invoice: 1022\\t\\tComplete!\");\n",
    "Console.WriteLine(\"\\nOutput Directory:\\t\");\n",
    "Console.Write(@\"c:\\invoices\");\n",
    "\n",
    "// To generate Japanese invoices:\n",
    "// Nihon no seikyū-sho o seisei suru ni wa:\n",
    "Console.Write(\"\\n\\n\\u65e5\\u672c\\u306e\\u8acb\\u6c42\\u66f8\\u3092\\u751f\\u6210\\u3059\\u308b\\u306b\\u306f\\uff1a\\n\\t\");\n",
    "Console.WriteLine(@\"c:\\invoices\\app.exe -j\");"
   ]
  },
  {
   "cell_type": "markdown",
   "metadata": {},
   "source": [
    "## Recap\n",
    "\n",
    "Here's the most important items to remember about formatting literal strings:\n",
    "\n",
    "* Use character escape sequences when you need to insert a special character into a literal string, like a tab `\\t`, new line `\\n`, or a double quotation mark `\\\"`.\n",
    "* Use an escape character for the backslash `\\\\` when you need to use a backslash in all other scenarios.\n",
    "* Create a verbatim string literal to keep all whitespace formatting and backslash characters in a string.\n",
    "* Use the `\\u` plus a four-character code to represent Unicode characters (UTF-16) in a string.\n",
    "* Unicode characters may not print out correctly depending on the application."
   ]
  },
  {
   "cell_type": "markdown",
   "metadata": {
    "dotnet_interactive": {
     "language": "markdown"
    }
   },
   "source": [
    "___\r\n",
    "\r\n",
    "## Exercise - String Interpolation\r\n",
    "\r\n",
    "While string concatenation is simple and convenient, `string interpolation` is growing in popularity in situations where you need to combine many literal strings and variables into a single formatted message.\r\n",
    "\r\n",
    "### What is string interpolation?\r\n",
    "\r\n",
    "String interpolation combines multiple values into a single literal string by using a \"template\" and one or more `interpolation expressions`. An **interpolation expression** is a variable surrounded by an opening and closing curly brace symbol { }. The literal string becomes a template when it's prefixed by the $ character.\r\n",
    "\r\n",
    "In other words, instead of writing the following line of code:"
   ]
  },
  {
   "cell_type": "code",
   "execution_count": null,
   "metadata": {
    "dotnet_interactive": {
     "language": "csharp"
    }
   },
   "outputs": [
    {
     "data": {
      "text/plain": [
       "Hello Ben!\r\n"
      ]
     },
     "output_type": "unknown"
    }
   ],
   "source": [
    "string greeting = \"Hello\";\r\n",
    "string firstName = \"Ben\";\r\n",
    "\r\n",
    "string message = greeting + \" \" + firstName + \"!\";\r\n",
    "Console.WriteLine(message)"
   ]
  },
  {
   "cell_type": "markdown",
   "metadata": {
    "dotnet_interactive": {
     "language": "markdown"
    }
   },
   "source": [
    "You can write this more concise line of code instead:"
   ]
  },
  {
   "cell_type": "code",
   "execution_count": null,
   "metadata": {
    "dotnet_interactive": {
     "language": "csharp"
    }
   },
   "outputs": [
    {
     "data": {
      "text/plain": [
       "Hello Ben!\r\n"
      ]
     },
     "output_type": "unknown"
    }
   ],
   "source": [
    "string message = $\"{greeting} {firstName}!\";\r\n",
    "Console.WriteLine(message);"
   ]
  },
  {
   "cell_type": "markdown",
   "metadata": {
    "dotnet_interactive": {
     "language": "markdown"
    }
   },
   "source": [
    "In this simple example, you save a few keystrokes. You can imagine how much more concise string interpolation can be in more complex operations. Moreover, many find the string interpolation syntax cleaner and easier to read.\r\n",
    "\r\n",
    "In the following exercise, we'll rewrite the previous messages using string concatenation\r\n",
    "\r\n",
    "## Avoiding intermediate variables."
   ]
  },
  {
   "cell_type": "code",
   "execution_count": null,
   "metadata": {
    "dotnet_interactive": {
     "language": "csharp"
    }
   },
   "outputs": [
    {
     "data": {
      "text/plain": [
       "Hello Bob\r\n"
      ]
     },
     "output_type": "unknown"
    }
   ],
   "source": [
    "string firstName = \"Bob\";\r\n",
    "string greeting = \"Hello\";\r\n",
    "Console.WriteLine($\"{greeting} {firstName}\");"
   ]
  },
  {
   "cell_type": "markdown",
   "metadata": {},
   "source": [
    "## Combine verbatim literals and string interpolation.\r\n",
    "Suppose you need to use a verbatim literal in your template. You can use both the verbatim literal prefix symbol `@` and the string interpolation `$` symbol together.\r\n",
    "\r\n",
    "Delete the code from the previous steps, and type the following code into the .NET Editor."
   ]
  },
  {
   "cell_type": "code",
   "execution_count": null,
   "metadata": {
    "dotnet_interactive": {
     "language": "csharp"
    }
   },
   "outputs": [
    {
     "data": {
      "text/plain": [
       "C:\\Output\\First-Project\\Data\r\n"
      ]
     },
     "output_type": "unknown"
    }
   ],
   "source": [
    "string projectName = \"First-Project\";\r\n",
    "Console.WriteLine($@\"C:\\Output\\{projectName}\\Data\");"
   ]
  },
  {
   "cell_type": "markdown",
   "metadata": {},
   "source": [
    "## Recap\r\n",
    "\r\n",
    "The primary ideas you should take away from this exercise:\r\n",
    "\r\n",
    "* String interpolation provides an improvement over string concatenation by reducing the number of characters required in some situations.\r\n",
    "* You can combine string interpolation and verbatim literals by combining the symbols for each and using that as a prefix for the string template."
   ]
  }
 ],
 "metadata": {
  "kernelspec": {
   "display_name": ".NET (C#)",
   "language": "C#",
   "name": ".net-csharp"
  },
  "language_info": {
   "file_extension": ".cs",
   "mimetype": "text/x-csharp",
   "name": "C#",
   "pygments_lexer": "csharp",
   "version": "9.0"
  }
 },
 "nbformat": 4,
 "nbformat_minor": 5
}