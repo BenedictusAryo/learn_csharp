{
 "cells": [
  {
   "cell_type": "markdown",
   "id": "4f5a4957-ab31-4590-824d-b09b42e4b1c5",
   "metadata": {},
   "source": [
    "# Perform basic string formatting in C#\n",
    "\n",
    "Source: https://docs.microsoft.com/en-us/learn/modules/csharp-basic-formatting/1-introduction\n",
    "\n",
    "As a software developer, you'll need to write C# code to combine and format literal and variable data to create a new value. That value might be displayed, saved to file or sent across the network. Fortunately, C# provides many ways to combine and format data.\n",
    "\n",
    "Suppose you want to display the output of a command-line application you're writing. You want to display values including literal text, text in variables, numeric data, and textual data in other languages. How would you format it correctly so that the user can understand what your application is communicating to them?\n",
    "\n",
    "In this module, you'll use character escape sequences to format literal strings of text to include special characters including tabs and line feeds -- even characters from different languages like Kanji or Cyrillic script! You'll learn how to concatenate two strings together, and will use string interpolation to create a literal string template with replaceable parts.\n",
    "\n",
    "By the end of this module, you'll be able to control how your data is displayed to end users of your applications."
   ]
  },
  {
   "cell_type": "markdown",
   "id": "3b1c0268-7801-4725-b049-1d52768bb99a",
   "metadata": {},
   "source": [
    "## Character Escape Sequences\n",
    "\n",
    "An **escape character** sequence is a special instruction to the runtime that you want to insert a special character that will affect the output of your string. In C#, the escape character sequences begin with a backslash `\\` and then include another character. For example, the `\\n` sequence will add a new line, and a `\\t` sequence will add a tab.\n",
    "\n",
    "The following code uses escape character sequences to add whitespace."
   ]
  },
  {
   "cell_type": "code",
   "execution_count": 1,
   "id": "819b1394-7d9d-4b8d-a7af-df4594bbc3a8",
   "metadata": {},
   "outputs": [
    {
     "name": "stdout",
     "output_type": "stream",
     "text": [
      "Hello\n",
      "World!\n",
      "Hello\tWorld!\n"
     ]
    }
   ],
   "source": [
    "// New Line\n",
    "Console.WriteLine(\"Hello\\nWorld!\");\n",
    "\n",
    "// Tab\n",
    "Console.WriteLine(\"Hello\\tWorld!\");"
   ]
  },
  {
   "cell_type": "markdown",
   "id": "6cba2d87-04c6-4166-a820-11a08e980c0c",
   "metadata": {},
   "source": [
    "What if you need to insert a double-quotation mark in a literal string? If you don't use the character escape sequence, you'll confuse the compiler because it will think you want to terminate the string prematurely ... and will not understand the purpose of the characters after the second double-quotation mark."
   ]
  },
  {
   "cell_type": "code",
   "execution_count": 2,
   "id": "81ec5832-b4cf-4829-a04f-673a686a98e2",
   "metadata": {},
   "outputs": [
    {
     "name": "stderr",
     "output_type": "stream",
     "text": [
      "\n",
      "(1,27): error CS1003: Syntax error, ',' expected\n",
      "\n",
      "(1,32): error CS1003: Syntax error, ',' expected\n",
      "\n"
     ]
    },
    {
     "ename": "Cell not executed",
     "evalue": "compilation error",
     "output_type": "error",
     "traceback": []
    }
   ],
   "source": [
    "Console.WriteLine(\"Hello \"World\"!\");"
   ]
  },
  {
   "cell_type": "markdown",
   "id": "155aefe9-f3da-4f40-9195-899456ec3360",
   "metadata": {},
   "source": [
    "To handle that situation, use the \\\" escape sequence."
   ]
  },
  {
   "cell_type": "code",
   "execution_count": 3,
   "id": "5364d1ad-d0a1-4415-b5bd-b155323ea435",
   "metadata": {},
   "outputs": [
    {
     "name": "stdout",
     "output_type": "stream",
     "text": [
      "Hello \"World\"!\n"
     ]
    }
   ],
   "source": [
    "Console.WriteLine(\"Hello \\\"World\\\"!\");"
   ]
  },
  {
   "cell_type": "markdown",
   "id": "09a70ef5-3e2b-4462-b331-5f3d3f22790d",
   "metadata": {},
   "source": [
    "What if you need to use the backslash for other purposes, like to display a file path?"
   ]
  },
  {
   "cell_type": "code",
   "execution_count": 4,
   "id": "724ab5d0-d107-440b-9b77-8cf56b3cc9de",
   "metadata": {},
   "outputs": [
    {
     "name": "stderr",
     "output_type": "stream",
     "text": [
      "\n",
      "(1,22): error CS1009: Unrecognized escape sequence\n",
      "\n"
     ]
    },
    {
     "ename": "Cell not executed",
     "evalue": "compilation error",
     "output_type": "error",
     "traceback": []
    }
   ],
   "source": [
    "Console.WriteLine(\"c:\\source\\repos\");"
   ]
  },
  {
   "cell_type": "markdown",
   "id": "967355bd-1871-42b2-93cf-e36b1a7cb11a",
   "metadata": {},
   "source": [
    "The problem is the sequence `\\s`. The `\\r` doesn't produce an error because it is a valid escape sequence for a carriage return. However, it's unlikely that you would want to use a carriage return in this context.\n",
    "\n",
    "To solve the problem, you use the `\\\\` to display a single backslash."
   ]
  },
  {
   "cell_type": "code",
   "execution_count": 5,
   "id": "2dff394b-ec4c-40e9-b832-f6e90e9b914e",
   "metadata": {},
   "outputs": [
    {
     "name": "stdout",
     "output_type": "stream",
     "text": [
      "c:\\source\\repos\n"
     ]
    }
   ],
   "source": [
    "Console.WriteLine(\"c:\\\\source\\\\repos\");"
   ]
  },
  {
   "cell_type": "markdown",
   "id": "410169c6-72db-41ce-8cb2-9153bf355f3c",
   "metadata": {},
   "source": [
    "## Format the output of the command-line application using character escape sequences\n",
    "\n",
    "To create the mockup of our command line tool, add the following code in the editor."
   ]
  },
  {
   "cell_type": "code",
   "execution_count": 6,
   "id": "1866253e-9f24-44c2-9eb8-719434ed509f",
   "metadata": {},
   "outputs": [
    {
     "name": "stdout",
     "output_type": "stream",
     "text": [
      "Generating invoices for customer \"ABC Corp\" ...\n",
      "\n",
      "Invoice: 1021\t\tComplete!\n",
      "Invoice: 1022\t\tComplete!\n",
      "\n",
      "Output Directory:\t\n"
     ]
    }
   ],
   "source": [
    "Console.WriteLine(\"Generating invoices for customer \\\"ABC Corp\\\" ...\\n\");\n",
    "Console.WriteLine(\"Invoice: 1021\\t\\tComplete!\");\n",
    "Console.WriteLine(\"Invoice: 1022\\t\\tComplete!\");\n",
    "Console.WriteLine(\"\\nOutput Directory:\\t\");"
   ]
  },
  {
   "cell_type": "markdown",
   "id": "7e3a1574-cf7f-4b68-b520-22030c41c32e",
   "metadata": {},
   "source": [
    "## Verbatim String Literal\n",
    "\n",
    "A verbatim string literal will keep all whitespace and characters without the need to escape the backslash. To create a verbatim string, use the `@` directive before the literal string."
   ]
  },
  {
   "cell_type": "code",
   "execution_count": 8,
   "id": "f8f9817f-ef5e-48d1-a46b-677838b541b3",
   "metadata": {},
   "outputs": [
    {
     "name": "stdout",
     "output_type": "stream",
     "text": [
      "   c:\\source\\repos\n",
      "    (this is where your code goes)\n"
     ]
    }
   ],
   "source": [
    "Console.WriteLine(@\"   c:\\source\\repos\n",
    "    (this is where your code goes)\");"
   ]
  },
  {
   "cell_type": "markdown",
   "id": "46178789-9fb1-4591-b5b9-532d5c824822",
   "metadata": {},
   "source": [
    "## Format the output of the command-line application using a verbatim literal string"
   ]
  },
  {
   "cell_type": "code",
   "execution_count": 9,
   "id": "15ea00a7-e34c-4a75-8823-b2f493bb7005",
   "metadata": {},
   "outputs": [
    {
     "name": "stdout",
     "output_type": "stream",
     "text": [
      "Generating invoices for customer \"ABC Corp\" ...\n",
      "\n",
      "Invoice: 1021\t\tComplete!\n",
      "Invoice: 1022\t\tComplete!\n",
      "\n",
      "Output Directory:\t\n",
      "c:\\invoices"
     ]
    }
   ],
   "source": [
    "Console.WriteLine(\"Generating invoices for customer \\\"ABC Corp\\\" ...\\n\");\n",
    "Console.WriteLine(\"Invoice: 1021\\t\\tComplete!\");\n",
    "Console.WriteLine(\"Invoice: 1022\\t\\tComplete!\");\n",
    "Console.WriteLine(\"\\nOutput Directory:\\t\");\n",
    "Console.Write(@\"c:\\invoices\");"
   ]
  },
  {
   "cell_type": "markdown",
   "id": "c58b623a-c3f4-4614-a841-2a0784d6230e",
   "metadata": {},
   "source": [
    "## Unicode Escape Characters\n",
    "\n",
    "You can also add encoded characters in literal strings using the `\\u` escape sequence, then a four-character code representing some character in Unicode (UTF-16)."
   ]
  },
  {
   "cell_type": "code",
   "execution_count": 10,
   "id": "d16d6450-96d1-474d-bfc7-d3b2ab384629",
   "metadata": {},
   "outputs": [
    {
     "name": "stdout",
     "output_type": "stream",
     "text": [
      "こんにちは World!\n"
     ]
    }
   ],
   "source": [
    "// Kon'nichiwa World\n",
    "Console.WriteLine(\"\\u3053\\u3093\\u306B\\u3061\\u306F World!\");"
   ]
  },
  {
   "cell_type": "markdown",
   "id": "d816ada9-e4ab-4357-9ad2-af9d4e1a004a",
   "metadata": {},
   "source": [
    "## Format the output of the command-line application using unicode escape characters\n",
    "\n",
    "To complete the mocked up command-line user interface, we'll add a phrase in Japanese that translates to \"To generate Japanese invoices\", then provides a verbatim literal string with the application executable with a flag. We'll also add some escape sequences for formatting.\n",
    "\n",
    "Add the following code to your application."
   ]
  },
  {
   "cell_type": "code",
   "execution_count": 11,
   "id": "377ea022-3ddf-4b06-a2b7-bf63d054b006",
   "metadata": {},
   "outputs": [
    {
     "name": "stdout",
     "output_type": "stream",
     "text": [
      "Generating invoices for customer \"ABC Corp\" ...\n",
      "\n",
      "Invoice: 1021\t\tComplete!\n",
      "Invoice: 1022\t\tComplete!\n",
      "\n",
      "Output Directory:\t\n",
      "c:\\invoices\n",
      "\n",
      "日本の請求書を生成するには：\n",
      "\tc:\\invoices\\app.exe -j\n"
     ]
    }
   ],
   "source": [
    "Console.WriteLine(\"Generating invoices for customer \\\"ABC Corp\\\" ...\\n\");\n",
    "Console.WriteLine(\"Invoice: 1021\\t\\tComplete!\");\n",
    "Console.WriteLine(\"Invoice: 1022\\t\\tComplete!\");\n",
    "Console.WriteLine(\"\\nOutput Directory:\\t\");\n",
    "Console.Write(@\"c:\\invoices\");\n",
    "\n",
    "// To generate Japanese invoices:\n",
    "// Nihon no seikyū-sho o seisei suru ni wa:\n",
    "Console.Write(\"\\n\\n\\u65e5\\u672c\\u306e\\u8acb\\u6c42\\u66f8\\u3092\\u751f\\u6210\\u3059\\u308b\\u306b\\u306f\\uff1a\\n\\t\");\n",
    "Console.WriteLine(@\"c:\\invoices\\app.exe -j\");"
   ]
  },
  {
   "cell_type": "markdown",
   "id": "39d7c798-68f7-4e9f-9173-3ca5b7341e80",
   "metadata": {},
   "source": [
    "## Recap\n",
    "\n",
    "Here's the most important items to remember about formatting literal strings:\n",
    "\n",
    "* Use character escape sequences when you need to insert a special character into a literal string, like a tab `\\t`, new line `\\n`, or a double quotation mark `\\\"`.\n",
    "* Use an escape character for the backslash `\\\\` when you need to use a backslash in all other scenarios.\n",
    "* Create a verbatim string literal to keep all whitespace formatting and backslash characters in a string.\n",
    "* Use the `\\u` plus a four-character code to represent Unicode characters (UTF-16) in a string.\n",
    "* Unicode characters may not print out correctly depending on the application."
   ]
  },
  {
   "cell_type": "code",
   "execution_count": null,
   "id": "f29ac64e-1a68-4e32-85fb-8077a4856dd2",
   "metadata": {},
   "outputs": [],
   "source": []
  }
 ],
 "metadata": {
  "kernelspec": {
   "display_name": ".NET (C#)",
   "language": "C#",
   "name": ".net-csharp"
  },
  "language_info": {
   "file_extension": ".cs",
   "mimetype": "text/x-csharp",
   "name": "C#",
   "pygments_lexer": "csharp",
   "version": "9.0"
  }
 },
 "nbformat": 4,
 "nbformat_minor": 5
}
