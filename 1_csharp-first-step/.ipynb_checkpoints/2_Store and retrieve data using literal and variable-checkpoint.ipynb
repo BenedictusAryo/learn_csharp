{
 "cells": [
  {
   "cell_type": "markdown",
   "id": "2b4d437a-c13b-4ff5-b845-0d6ecd1b5152",
   "metadata": {},
   "source": [
    "# Store and retrieve data using literal and variable values in C#\n",
    "\n",
    "Source: https://docs.microsoft.com/en-us/learn/modules/csharp-literals-variables/\n",
    "\n",
    "Many applications you'll build in C# will require you to work with data. Sometimes that data will be hard-coded in your application. For example, you may need to print a message to the user when some operation succeeds. A \"success\" message would likely be the same every time the application is executed.\n",
    "\n",
    "But more often, you'll work with data that is unknown as you build your application. Perhaps the data is captured via keyboard input, or comes from a file or the internet. Therefore, you'll need to build structures called variables that can store data in memory as your application runs.\n",
    "\n",
    "Suppose you want to display a formatted message to the end user containing different types of data. The message would include hard-coded strings, but may combine it with information your application collects from the user. To display a formatted message, you'll need to create both hard-coded values and define variables that can store data of a certain type, whether numeric, alphanumeric, and so on.\n",
    "\n",
    "In this module, you'll create hard-coded literal values that contain different data types. You'll create variables that can hold certain data types, set those variables with a value, then retrieve those values later in code. And finally, you'll learn how you can simplify your code by allowing the compiler to shoulder some of the work.\n",
    "\n",
    "By the end of this module, you'll be able to create literal values and store and retrieve data in variables.\n",
    "\n",
    "### Learning objectives\n",
    "\n",
    "In this module, you will:\n",
    "\n",
    "* Create literal values for five basic data types\n",
    "* Declare and initialize variables\n",
    "* Retrieve and set values in variables\n",
    "* Allow the compiler to determine the data type for your variable when initializing"
   ]
  },
  {
   "cell_type": "markdown",
   "id": "ac73c1fd-3693-4c91-a297-b11e66bbbc1d",
   "metadata": {},
   "source": [
    "___\n",
    "\n",
    "## Literal Values\n",
    "\n",
    "### What is a literal value?\n",
    "\n",
    "A literal value is a hard-coded value that never changes. Previously, we displayed a literal string to the Output pane. In other words, we literally wanted that string of alphanumeric characters `H`, `e`, `l`, `l`, `o`, and so on, displayed in the Output window.\n",
    "\n",
    "The string data type is used whenever you have alphanumeric words, phrases, or data for presentation, not calculation. More about that in a moment.\n",
    "\n",
    "What other kinds of literal data can we print to the Output pane?\n",
    "\n",
    "### Print out different literal data types\n",
    "There are many data types in C#. But as you're getting started you only need to know about five or six data types since they cover most scenarios. Let's display a literal instance of data type to the output pane.\n",
    "\n",
    " ***Note***\n",
    "```\n",
    "You may notice as you begin to work in the code window that it colors certain syntax in different colors to indicate keywords, operators, data types and more. Begin to take notice of the colors. It can help you spot syntax errors as you enter characters, and can help you understand the code more effectively.\n",
    "```\n",
    "\n",
    "If we only wanted a single alphanumeric character printed to screen, we could create a **char literal** by surrounding one alphanumeric character in single-quotes."
   ]
  },
  {
   "cell_type": "code",
   "execution_count": 1,
   "id": "b9f814cc-a6ee-4981-bc45-12c99830d863",
   "metadata": {},
   "outputs": [
    {
     "data": {
      "text/html": [
       "\r\n",
       "<div>\r\n",
       "    <div id='dotnet-interactive-this-cell-15520.Microsoft.DotNet.Interactive.Http.HttpPort' style='display: none'>\r\n",
       "        The below script needs to be able to find the current output cell; this is an easy method to get it.\r\n",
       "    </div>\r\n",
       "    <script type='text/javascript'>\r\n",
       "async function probeAddresses(probingAddresses) {\r\n",
       "    function timeout(ms, promise) {\r\n",
       "        return new Promise(function (resolve, reject) {\r\n",
       "            setTimeout(function () {\r\n",
       "                reject(new Error('timeout'))\r\n",
       "            }, ms)\r\n",
       "            promise.then(resolve, reject)\r\n",
       "        })\r\n",
       "    }\r\n",
       "\r\n",
       "    if (Array.isArray(probingAddresses)) {\r\n",
       "        for (let i = 0; i < probingAddresses.length; i++) {\r\n",
       "\r\n",
       "            let rootUrl = probingAddresses[i];\r\n",
       "\r\n",
       "            if (!rootUrl.endsWith('/')) {\r\n",
       "                rootUrl = `${rootUrl}/`;\r\n",
       "            }\r\n",
       "\r\n",
       "            try {\r\n",
       "                let response = await timeout(1000, fetch(`${rootUrl}discovery`, {\r\n",
       "                    method: 'POST',\r\n",
       "                    cache: 'no-cache',\r\n",
       "                    mode: 'cors',\r\n",
       "                    timeout: 1000,\r\n",
       "                    headers: {\r\n",
       "                        'Content-Type': 'text/plain'\r\n",
       "                    },\r\n",
       "                    body: probingAddresses[i]\r\n",
       "                }));\r\n",
       "\r\n",
       "                if (response.status == 200) {\r\n",
       "                    return rootUrl;\r\n",
       "                }\r\n",
       "            }\r\n",
       "            catch (e) { }\r\n",
       "        }\r\n",
       "    }\r\n",
       "}\r\n",
       "\r\n",
       "function loadDotnetInteractiveApi() {\r\n",
       "    probeAddresses([\"http://192.168.56.1:1001/\", \"http://192.168.0.124:1001/\", \"http://127.0.0.1:1001/\"])\r\n",
       "        .then((root) => {\r\n",
       "        // use probing to find host url and api resources\r\n",
       "        // load interactive helpers and language services\r\n",
       "        let dotnetInteractiveRequire = require.config({\r\n",
       "        context: '15520.Microsoft.DotNet.Interactive.Http.HttpPort',\r\n",
       "                paths:\r\n",
       "            {\r\n",
       "                'dotnet-interactive': `${root}resources`\r\n",
       "                }\r\n",
       "        }) || require;\r\n",
       "\r\n",
       "            window.dotnetInteractiveRequire = dotnetInteractiveRequire;\r\n",
       "\r\n",
       "            window.configureRequireFromExtension = function(extensionName, extensionCacheBuster) {\r\n",
       "                let paths = {};\r\n",
       "                paths[extensionName] = `${root}extensions/${extensionName}/resources/`;\r\n",
       "                \r\n",
       "                let internalRequire = require.config({\r\n",
       "                    context: extensionCacheBuster,\r\n",
       "                    paths: paths,\r\n",
       "                    urlArgs: `cacheBuster=${extensionCacheBuster}`\r\n",
       "                    }) || require;\r\n",
       "\r\n",
       "                return internalRequire\r\n",
       "            };\r\n",
       "        \r\n",
       "            dotnetInteractiveRequire([\r\n",
       "                    'dotnet-interactive/dotnet-interactive'\r\n",
       "                ],\r\n",
       "                function (dotnet) {\r\n",
       "                    dotnet.init(window);\r\n",
       "                },\r\n",
       "                function (error) {\r\n",
       "                    console.log(error);\r\n",
       "                }\r\n",
       "            );\r\n",
       "        })\r\n",
       "        .catch(error => {console.log(error);});\r\n",
       "    }\r\n",
       "\r\n",
       "// ensure `require` is available globally\r\n",
       "if ((typeof(require) !==  typeof(Function)) || (typeof(require.config) !== typeof(Function))) {\r\n",
       "    let require_script = document.createElement('script');\r\n",
       "    require_script.setAttribute('src', 'https://cdnjs.cloudflare.com/ajax/libs/require.js/2.3.6/require.min.js');\r\n",
       "    require_script.setAttribute('type', 'text/javascript');\r\n",
       "    \r\n",
       "    \r\n",
       "    require_script.onload = function() {\r\n",
       "        loadDotnetInteractiveApi();\r\n",
       "    };\r\n",
       "\r\n",
       "    document.getElementsByTagName('head')[0].appendChild(require_script);\r\n",
       "}\r\n",
       "else {\r\n",
       "    loadDotnetInteractiveApi();\r\n",
       "}\r\n",
       "\r\n",
       "    </script>\r\n",
       "</div>"
      ]
     },
     "metadata": {},
     "output_type": "display_data"
    },
    {
     "name": "stdout",
     "output_type": "stream",
     "text": [
      "b\n"
     ]
    }
   ],
   "source": [
    "Console.WriteLine('b');"
   ]
  },
  {
   "cell_type": "markdown",
   "id": "739b95d1-1679-4e5c-b0f9-a3d82235dda1",
   "metadata": {},
   "source": [
    "But If you enter the following code, You would get the following error:"
   ]
  },
  {
   "cell_type": "code",
   "execution_count": 2,
   "id": "aed30cea-1229-44f5-a749-d4a040720511",
   "metadata": {},
   "outputs": [
    {
     "name": "stderr",
     "output_type": "stream",
     "text": [
      "\n",
      "(1,19): error CS1012: Too many characters in character literal\n",
      "\n"
     ]
    },
    {
     "ename": "Cell not executed",
     "evalue": "compilation error",
     "output_type": "error",
     "traceback": []
    }
   ],
   "source": [
    "Console.WriteLine('Hello World!');"
   ]
  },
  {
   "cell_type": "markdown",
   "id": "f23aaa0b-889c-40a0-96e9-2484a1cce298",
   "metadata": {},
   "source": [
    "The C# compiler was expecting a single character (since you used the character literal syntax) but you supplied 12 characters instead!\n",
    "\n",
    "Just like the string data type, you use char whenever you have a single alphanumeric character for presentation (not calculation).\n",
    "\n",
    "The term char is short for character. In C#, they're officially referred to as \"char\", but frequently referred to as a \"character\"."
   ]
  },
  {
   "cell_type": "markdown",
   "id": "231a6f0d-569f-4f2c-9ce0-a80a22a691af",
   "metadata": {},
   "source": [
    "### Write an int literal to the console\n",
    "\n",
    "If you want to print a numeric whole number (no fractions) value to Output, you can use an `int` literal. An int literal requires no additional operators like the `string` or `char`.\n",
    "\n",
    "Add the following line of code in the code editor:"
   ]
  },
  {
   "cell_type": "code",
   "execution_count": 3,
   "id": "5a6965b6-6784-4c40-abd4-6f85c0a29941",
   "metadata": {},
   "outputs": [
    {
     "name": "stdout",
     "output_type": "stream",
     "text": [
      "123\n"
     ]
    }
   ],
   "source": [
    "Console.WriteLine(123);"
   ]
  },
  {
   "cell_type": "markdown",
   "id": "5b5eb30f-e5d0-4173-8816-fe859bff95d7",
   "metadata": {},
   "source": [
    "The term int is short for integer, which you may recognize from studying math. In C#, they're officially referred to as `\"int\"`, but frequently known by their alter ego `\"integer\"`."
   ]
  },
  {
   "cell_type": "markdown",
   "id": "33155dc9-715c-4005-b46c-3ee372e24642",
   "metadata": {},
   "source": [
    "### Write a decimal literal to the console\n",
    "\n",
    "If we wanted to print a number that includes values after the decimal point, we could use a **`decimal literal`**.\n",
    "\n",
    "To create a decimal literal, append the letter **`m`** after the number. In this context, the **`m`** is called a literal suffix. The literal suffix tells the compiler you wish to work with a value of type decimal.\n",
    "\n",
    "Add the following line of code in the code editor:"
   ]
  },
  {
   "cell_type": "code",
   "execution_count": 4,
   "id": "9f0b3d8f-2948-410a-a5de-5293c15708c6",
   "metadata": {},
   "outputs": [
    {
     "name": "stdout",
     "output_type": "stream",
     "text": [
      "12.3\n"
     ]
    }
   ],
   "source": [
    "Console.WriteLine(12.3m);"
   ]
  },
  {
   "cell_type": "markdown",
   "id": "26634e72-08e4-4db4-9484-e77a0b162de5",
   "metadata": {},
   "source": [
    "**Note**\n",
    "\n",
    "You can use either a lower-case **`m`** or upper-case **`M`** as the literal suffix for a decimal.\n",
    "\n",
    "### Write a bool literal to the console\n",
    "\n",
    "If we wanted to print a value representing either true or false, we could use a **`bool literal`**.\n",
    "\n",
    "Add the following lines of code in the code editor:"
   ]
  },
  {
   "cell_type": "code",
   "execution_count": 5,
   "id": "e7065091-13c0-471f-9097-329833b18a88",
   "metadata": {},
   "outputs": [
    {
     "name": "stdout",
     "output_type": "stream",
     "text": [
      "True\n",
      "False\n"
     ]
    }
   ],
   "source": [
    "Console.WriteLine(true);\n",
    "Console.WriteLine(false);"
   ]
  },
  {
   "cell_type": "markdown",
   "id": "ea859970-1489-4fc9-b1a0-6970a86aed18",
   "metadata": {},
   "source": [
    "The term bool is short for boolean, which you may also recognize from studying math. In C#, they're officially referred to as \"bool\", but often developers use the term \"boolean\".\n",
    "\n",
    "The bool literals represent the idea of truthhood and falsehood. We'll use bool values extensively when we start to add decision logic to our applications. We'll evaluate expressions to see whether the expression is true or false."
   ]
  },
  {
   "cell_type": "markdown",
   "id": "3f5fcc31-d452-4a8f-9d97-40c37a0b6e14",
   "metadata": {},
   "source": [
    "## Why emphasize data types?\n",
    "\n",
    "Data types play a central role in C#. In fact, the emphasis on data types is one of the key distinguishing features of C# compared to other languages like Python and JavaScript. The designers of C# believed they can help developers avoid common software bugs by enforcing data types. You'll see this concept unfold as you learn more about C#.\n",
    "\n",
    "Presentation versus calculation and evaluation\n",
    "Earlier we said that `strings` and `chars` are used for \"presentation, not calculation\". If you need to perform a mathematical operation on numeric values, you should use an `int` or `decimal`. If you have data that is used for presentation or reference purposes only, you should use a string or char data type.\n",
    "\n",
    "Suppose you needed to collect data from a user like a phone number or postal code. Depending on the country where you live, that data may consist of numeric characters. However, since you rarely perform mathematical calculations on phone numbers and postal codes, you should prefer to use a string data type when working with them.\n",
    "\n",
    "The same can be said of `bool`. If you need to work with the words `\"true\"` and `\"false\"` in your application, you would use a `string`. However, if you need to work with the concept of `true` or `false` when performing an evaluation, you use a bool. This should become clearer as we perform evaluations in other modules.\n",
    "\n",
    "It's important to know that these values may look like their string literal equivalents. In other words, you may think these statements are the same:"
   ]
  },
  {
   "cell_type": "code",
   "execution_count": 6,
   "id": "dd0c2440-8ba4-40aa-bd56-5d471f87a90f",
   "metadata": {},
   "outputs": [
    {
     "name": "stdout",
     "output_type": "stream",
     "text": [
      "123\n",
      "123\n",
      "true\n",
      "True\n"
     ]
    }
   ],
   "source": [
    "Console.WriteLine(\"123\");\n",
    "Console.WriteLine(123);\n",
    "\n",
    "Console.WriteLine(\"true\");\n",
    "Console.WriteLine(true);"
   ]
  },
  {
   "cell_type": "markdown",
   "id": "87520a47-55b2-4604-bdf1-29304a8c81d4",
   "metadata": {},
   "source": [
    "## Recap\n",
    "\n",
    "The main takeaway is that there are many data types, but we'll focus on just a few for now:\n",
    "\n",
    "* string for words, phrases, or any alphanumeric data for presentation, not calculation\n",
    "* char for a single alphanumeric character\n",
    "* int for a whole number\n",
    "* decimal for a number with a decimal\n",
    "* bool for a true/false value"
   ]
  }
 ],
 "metadata": {
  "kernelspec": {
   "display_name": ".NET (C#)",
   "language": "C#",
   "name": ".net-csharp"
  },
  "language_info": {
   "file_extension": ".cs",
   "mimetype": "text/x-csharp",
   "name": "C#",
   "pygments_lexer": "csharp",
   "version": "9.0"
  }
 },
 "nbformat": 4,
 "nbformat_minor": 5
}
