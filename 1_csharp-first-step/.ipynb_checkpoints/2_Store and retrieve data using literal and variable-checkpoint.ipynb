{
 "cells": [
  {
   "cell_type": "markdown",
   "id": "2b4d437a-c13b-4ff5-b845-0d6ecd1b5152",
   "metadata": {},
   "source": [
    "# Store and retrieve data using literal and variable values in C#\n",
    "\n",
    "Source: https://docs.microsoft.com/en-us/learn/modules/csharp-literals-variables/\n",
    "\n",
    "Many applications you'll build in C# will require you to work with data. Sometimes that data will be hard-coded in your application. For example, you may need to print a message to the user when some operation succeeds. A \"success\" message would likely be the same every time the application is executed.\n",
    "\n",
    "But more often, you'll work with data that is unknown as you build your application. Perhaps the data is captured via keyboard input, or comes from a file or the internet. Therefore, you'll need to build structures called variables that can store data in memory as your application runs.\n",
    "\n",
    "Suppose you want to display a formatted message to the end user containing different types of data. The message would include hard-coded strings, but may combine it with information your application collects from the user. To display a formatted message, you'll need to create both hard-coded values and define variables that can store data of a certain type, whether numeric, alphanumeric, and so on.\n",
    "\n",
    "In this module, you'll create hard-coded literal values that contain different data types. You'll create variables that can hold certain data types, set those variables with a value, then retrieve those values later in code. And finally, you'll learn how you can simplify your code by allowing the compiler to shoulder some of the work.\n",
    "\n",
    "By the end of this module, you'll be able to create literal values and store and retrieve data in variables.\n",
    "\n",
    "### Learning objectives\n",
    "\n",
    "In this module, you will:\n",
    "\n",
    "* Create literal values for five basic data types\n",
    "* Declare and initialize variables\n",
    "* Retrieve and set values in variables\n",
    "* Allow the compiler to determine the data type for your variable when initializing"
   ]
  },
  {
   "cell_type": "markdown",
   "id": "ac73c1fd-3693-4c91-a297-b11e66bbbc1d",
   "metadata": {},
   "source": [
    "___\n",
    "\n",
    "## Literal Values\n",
    "\n",
    "### What is a literal value?\n",
    "\n",
    "A literal value is a hard-coded value that never changes. Previously, we displayed a literal string to the Output pane. In other words, we literally wanted that string of alphanumeric characters `H`, `e`, `l`, `l`, `o`, and so on, displayed in the Output window.\n",
    "\n",
    "The string data type is used whenever you have alphanumeric words, phrases, or data for presentation, not calculation. More about that in a moment.\n",
    "\n",
    "What other kinds of literal data can we print to the Output pane?\n",
    "\n",
    "### Print out different literal data types\n",
    "There are many data types in C#. But as you're getting started you only need to know about five or six data types since they cover most scenarios. Let's display a literal instance of data type to the output pane.\n",
    "\n",
    " ***Note***\n",
    "```\n",
    "You may notice as you begin to work in the code window that it colors certain syntax in different colors to indicate keywords, operators, data types and more. Begin to take notice of the colors. It can help you spot syntax errors as you enter characters, and can help you understand the code more effectively.\n",
    "```\n",
    "\n",
    "If we only wanted a single alphanumeric character printed to screen, we could create a **char literal** by surrounding one alphanumeric character in single-quotes."
   ]
  },
  {
   "cell_type": "code",
   "execution_count": 1,
   "id": "b9f814cc-a6ee-4981-bc45-12c99830d863",
   "metadata": {},
   "outputs": [
    {
     "data": {
      "text/html": [
       "\r\n",
       "<div>\r\n",
       "    <div id='dotnet-interactive-this-cell-9864.Microsoft.DotNet.Interactive.Http.HttpPort' style='display: none'>\r\n",
       "        The below script needs to be able to find the current output cell; this is an easy method to get it.\r\n",
       "    </div>\r\n",
       "    <script type='text/javascript'>\r\n",
       "async function probeAddresses(probingAddresses) {\r\n",
       "    function timeout(ms, promise) {\r\n",
       "        return new Promise(function (resolve, reject) {\r\n",
       "            setTimeout(function () {\r\n",
       "                reject(new Error('timeout'))\r\n",
       "            }, ms)\r\n",
       "            promise.then(resolve, reject)\r\n",
       "        })\r\n",
       "    }\r\n",
       "\r\n",
       "    if (Array.isArray(probingAddresses)) {\r\n",
       "        for (let i = 0; i < probingAddresses.length; i++) {\r\n",
       "\r\n",
       "            let rootUrl = probingAddresses[i];\r\n",
       "\r\n",
       "            if (!rootUrl.endsWith('/')) {\r\n",
       "                rootUrl = `${rootUrl}/`;\r\n",
       "            }\r\n",
       "\r\n",
       "            try {\r\n",
       "                let response = await timeout(1000, fetch(`${rootUrl}discovery`, {\r\n",
       "                    method: 'POST',\r\n",
       "                    cache: 'no-cache',\r\n",
       "                    mode: 'cors',\r\n",
       "                    timeout: 1000,\r\n",
       "                    headers: {\r\n",
       "                        'Content-Type': 'text/plain'\r\n",
       "                    },\r\n",
       "                    body: probingAddresses[i]\r\n",
       "                }));\r\n",
       "\r\n",
       "                if (response.status == 200) {\r\n",
       "                    return rootUrl;\r\n",
       "                }\r\n",
       "            }\r\n",
       "            catch (e) { }\r\n",
       "        }\r\n",
       "    }\r\n",
       "}\r\n",
       "\r\n",
       "function loadDotnetInteractiveApi() {\r\n",
       "    probeAddresses([\"http://192.168.56.1:1001/\", \"http://192.168.0.124:1001/\", \"http://127.0.0.1:1001/\"])\r\n",
       "        .then((root) => {\r\n",
       "        // use probing to find host url and api resources\r\n",
       "        // load interactive helpers and language services\r\n",
       "        let dotnetInteractiveRequire = require.config({\r\n",
       "        context: '9864.Microsoft.DotNet.Interactive.Http.HttpPort',\r\n",
       "                paths:\r\n",
       "            {\r\n",
       "                'dotnet-interactive': `${root}resources`\r\n",
       "                }\r\n",
       "        }) || require;\r\n",
       "\r\n",
       "            window.dotnetInteractiveRequire = dotnetInteractiveRequire;\r\n",
       "\r\n",
       "            window.configureRequireFromExtension = function(extensionName, extensionCacheBuster) {\r\n",
       "                let paths = {};\r\n",
       "                paths[extensionName] = `${root}extensions/${extensionName}/resources/`;\r\n",
       "                \r\n",
       "                let internalRequire = require.config({\r\n",
       "                    context: extensionCacheBuster,\r\n",
       "                    paths: paths,\r\n",
       "                    urlArgs: `cacheBuster=${extensionCacheBuster}`\r\n",
       "                    }) || require;\r\n",
       "\r\n",
       "                return internalRequire\r\n",
       "            };\r\n",
       "        \r\n",
       "            dotnetInteractiveRequire([\r\n",
       "                    'dotnet-interactive/dotnet-interactive'\r\n",
       "                ],\r\n",
       "                function (dotnet) {\r\n",
       "                    dotnet.init(window);\r\n",
       "                },\r\n",
       "                function (error) {\r\n",
       "                    console.log(error);\r\n",
       "                }\r\n",
       "            );\r\n",
       "        })\r\n",
       "        .catch(error => {console.log(error);});\r\n",
       "    }\r\n",
       "\r\n",
       "// ensure `require` is available globally\r\n",
       "if ((typeof(require) !==  typeof(Function)) || (typeof(require.config) !== typeof(Function))) {\r\n",
       "    let require_script = document.createElement('script');\r\n",
       "    require_script.setAttribute('src', 'https://cdnjs.cloudflare.com/ajax/libs/require.js/2.3.6/require.min.js');\r\n",
       "    require_script.setAttribute('type', 'text/javascript');\r\n",
       "    \r\n",
       "    \r\n",
       "    require_script.onload = function() {\r\n",
       "        loadDotnetInteractiveApi();\r\n",
       "    };\r\n",
       "\r\n",
       "    document.getElementsByTagName('head')[0].appendChild(require_script);\r\n",
       "}\r\n",
       "else {\r\n",
       "    loadDotnetInteractiveApi();\r\n",
       "}\r\n",
       "\r\n",
       "    </script>\r\n",
       "</div>"
      ]
     },
     "metadata": {},
     "output_type": "display_data"
    },
    {
     "name": "stdout",
     "output_type": "stream",
     "text": [
      "b\n"
     ]
    }
   ],
   "source": [
    "Console.WriteLine('b');"
   ]
  },
  {
   "cell_type": "markdown",
   "id": "739b95d1-1679-4e5c-b0f9-a3d82235dda1",
   "metadata": {},
   "source": [
    "But If you enter the following code, You would get the following error:"
   ]
  },
  {
   "cell_type": "code",
   "execution_count": 2,
   "id": "aed30cea-1229-44f5-a749-d4a040720511",
   "metadata": {},
   "outputs": [
    {
     "name": "stderr",
     "output_type": "stream",
     "text": [
      "\n",
      "(1,19): error CS1012: Too many characters in character literal\n",
      "\n"
     ]
    },
    {
     "ename": "Cell not executed",
     "evalue": "compilation error",
     "output_type": "error",
     "traceback": []
    }
   ],
   "source": [
    "Console.WriteLine('Hello World!');"
   ]
  },
  {
   "cell_type": "markdown",
   "id": "f23aaa0b-889c-40a0-96e9-2484a1cce298",
   "metadata": {},
   "source": [
    "The C# compiler was expecting a single character (since you used the character literal syntax) but you supplied 12 characters instead!\n",
    "\n",
    "Just like the string data type, you use char whenever you have a single alphanumeric character for presentation (not calculation).\n",
    "\n",
    "The term char is short for character. In C#, they're officially referred to as \"char\", but frequently referred to as a \"character\"."
   ]
  },
  {
   "cell_type": "markdown",
   "id": "231a6f0d-569f-4f2c-9ce0-a80a22a691af",
   "metadata": {},
   "source": [
    "### Write an int literal to the console\n",
    "\n",
    "If you want to print a numeric whole number (no fractions) value to Output, you can use an `int` literal. An int literal requires no additional operators like the `string` or `char`.\n",
    "\n",
    "Add the following line of code in the code editor:"
   ]
  },
  {
   "cell_type": "code",
   "execution_count": 3,
   "id": "5a6965b6-6784-4c40-abd4-6f85c0a29941",
   "metadata": {},
   "outputs": [
    {
     "name": "stdout",
     "output_type": "stream",
     "text": [
      "123\n"
     ]
    }
   ],
   "source": [
    "Console.WriteLine(123);"
   ]
  },
  {
   "cell_type": "markdown",
   "id": "5b5eb30f-e5d0-4173-8816-fe859bff95d7",
   "metadata": {},
   "source": [
    "The term int is short for integer, which you may recognize from studying math. In C#, they're officially referred to as `\"int\"`, but frequently known by their alter ego `\"integer\"`."
   ]
  },
  {
   "cell_type": "markdown",
   "id": "33155dc9-715c-4005-b46c-3ee372e24642",
   "metadata": {},
   "source": [
    "### Write a decimal literal to the console\n",
    "\n",
    "If we wanted to print a number that includes values after the decimal point, we could use a **`decimal literal`**.\n",
    "\n",
    "To create a decimal literal, append the letter **`m`** after the number. In this context, the **`m`** is called a literal suffix. The literal suffix tells the compiler you wish to work with a value of type decimal.\n",
    "\n",
    "Add the following line of code in the code editor:"
   ]
  },
  {
   "cell_type": "code",
   "execution_count": 4,
   "id": "9f0b3d8f-2948-410a-a5de-5293c15708c6",
   "metadata": {},
   "outputs": [
    {
     "name": "stdout",
     "output_type": "stream",
     "text": [
      "12.3\n"
     ]
    }
   ],
   "source": [
    "Console.WriteLine(12.3m);"
   ]
  },
  {
   "cell_type": "markdown",
   "id": "26634e72-08e4-4db4-9484-e77a0b162de5",
   "metadata": {},
   "source": [
    "**Note**\n",
    "\n",
    "You can use either a lower-case **`m`** or upper-case **`M`** as the literal suffix for a decimal.\n",
    "\n",
    "### Write a bool literal to the console\n",
    "\n",
    "If we wanted to print a value representing either true or false, we could use a **`bool literal`**.\n",
    "\n",
    "Add the following lines of code in the code editor:"
   ]
  },
  {
   "cell_type": "code",
   "execution_count": 5,
   "id": "e7065091-13c0-471f-9097-329833b18a88",
   "metadata": {},
   "outputs": [
    {
     "name": "stdout",
     "output_type": "stream",
     "text": [
      "True\n",
      "False\n"
     ]
    }
   ],
   "source": [
    "Console.WriteLine(true);\n",
    "Console.WriteLine(false);"
   ]
  },
  {
   "cell_type": "markdown",
   "id": "ea859970-1489-4fc9-b1a0-6970a86aed18",
   "metadata": {},
   "source": [
    "The term bool is short for boolean, which you may also recognize from studying math. In C#, they're officially referred to as \"bool\", but often developers use the term \"boolean\".\n",
    "\n",
    "The bool literals represent the idea of truthhood and falsehood. We'll use bool values extensively when we start to add decision logic to our applications. We'll evaluate expressions to see whether the expression is true or false."
   ]
  },
  {
   "cell_type": "markdown",
   "id": "3f5fcc31-d452-4a8f-9d97-40c37a0b6e14",
   "metadata": {},
   "source": [
    "## Why emphasize data types?\n",
    "\n",
    "Data types play a central role in C#. In fact, the emphasis on data types is one of the key distinguishing features of C# compared to other languages like Python and JavaScript. The designers of C# believed they can help developers avoid common software bugs by enforcing data types. You'll see this concept unfold as you learn more about C#.\n",
    "\n",
    "Presentation versus calculation and evaluation\n",
    "Earlier we said that `strings` and `chars` are used for \"presentation, not calculation\". If you need to perform a mathematical operation on numeric values, you should use an `int` or `decimal`. If you have data that is used for presentation or reference purposes only, you should use a string or char data type.\n",
    "\n",
    "Suppose you needed to collect data from a user like a phone number or postal code. Depending on the country where you live, that data may consist of numeric characters. However, since you rarely perform mathematical calculations on phone numbers and postal codes, you should prefer to use a string data type when working with them.\n",
    "\n",
    "The same can be said of `bool`. If you need to work with the words `\"true\"` and `\"false\"` in your application, you would use a `string`. However, if you need to work with the concept of `true` or `false` when performing an evaluation, you use a bool. This should become clearer as we perform evaluations in other modules.\n",
    "\n",
    "It's important to know that these values may look like their string literal equivalents. In other words, you may think these statements are the same:"
   ]
  },
  {
   "cell_type": "code",
   "execution_count": 6,
   "id": "dd0c2440-8ba4-40aa-bd56-5d471f87a90f",
   "metadata": {},
   "outputs": [
    {
     "name": "stdout",
     "output_type": "stream",
     "text": [
      "123\n",
      "123\n",
      "true\n",
      "True\n"
     ]
    }
   ],
   "source": [
    "Console.WriteLine(\"123\");\n",
    "Console.WriteLine(123);\n",
    "\n",
    "Console.WriteLine(\"true\");\n",
    "Console.WriteLine(true);"
   ]
  },
  {
   "cell_type": "markdown",
   "id": "87520a47-55b2-4604-bdf1-29304a8c81d4",
   "metadata": {},
   "source": [
    "## Recap\n",
    "\n",
    "The main takeaway is that there are many data types, but we'll focus on just a few for now:\n",
    "\n",
    "* string for words, phrases, or any alphanumeric data for presentation, not calculation\n",
    "* char for a single alphanumeric character\n",
    "* int for a whole number\n",
    "* decimal for a number with a decimal\n",
    "* bool for a true/false value\n",
    "\n",
    "___\n",
    "\n",
    "# Declaring Variables\n",
    "\n",
    "A literal is *literally* a hard-coded value. However, most applications will require us to work with values that we don't know much about ahead of time. In other words we'll need to work with data that comes from users, from files, or from across the network.\n",
    "\n",
    "When we need to work with data from outside of our code, we'll declare a variable.\n",
    "\n",
    "## What is a variable?\n",
    "A **variable** is a data item that may change its value during its lifetime. You use variables to temporarily store values that you intend to use later in your code. A variable is a friendly label that we can assign to a computer memory address. When we want to temporarily store a value in that memory address, or whenever we want to retrieve the value that is stored in the memory address, we just use the variable name we created.\n",
    "\n",
    "### Declaring a variable\n",
    "\n",
    "To create a new variable, you must first declare the data type of the variable, then give it a name."
   ]
  },
  {
   "cell_type": "code",
   "execution_count": 7,
   "id": "37e152f1-ee8d-4b74-90d8-a3a7b58bf472",
   "metadata": {},
   "outputs": [],
   "source": [
    "string firstName;"
   ]
  },
  {
   "cell_type": "markdown",
   "id": "ef33fae4-5fed-4ba4-962c-35492db25a5f",
   "metadata": {},
   "source": [
    "In this case, we're creating a new variable of type `string` called `firstName`. From now on, this variable can only hold string values.\n",
    "\n",
    "I can choose any name as long as it adheres to a few C# syntax rules for naming variables.\n",
    "\n",
    "## Variable name rules and conventions\n",
    "\n",
    "A software developer once famously said \"The hardest part of software development is naming things.\" Not only does the name of a variable have to follow certain syntax rules, it should also be used to make the code more human-readable and understandable. That's a lot to ask of one line of code!\n",
    "\n",
    "Here's a few important considerations about variable names:\n",
    "\n",
    "* Variable names can contain alphanumeric characters and the underscore character. Special characters like the hash symbol `#` (also known as the number symbol or pound symbol) or dollar symbol `$` are not allowed.\n",
    "* Variable names must begin with an alphabetical letter or an underscore, not a number. Developers use the underscore for a special purpose, so try to not use that for now.\n",
    "* Variable names **must not be a C# keyword**. For example, you cannot use the following variable declarations: `decimal` decimal; or `string` string;.\n",
    "* Variable names are case-sensitive, meaning that `string Value;` and `string value;` are two different variables.\n",
    "* Variable names should use `camel case`, which is a style of writing that uses a lower-case letter at the beginning of the first word and an upper-case letter at the beginning of each subsequent word. For example, `string thisIsCamelCase;`.\n",
    "* Variable names should be descriptive and meaningful in your application. Choose a name for your variable that represents the kind of data it will hold.\n",
    "* Variable names should be one or more entire words appended together. Don't use contractions because the name of the variable (and therefore, its purpose) may be unclear to others who are reading your code.\n",
    "* Variable names shouldn't include the data type of the variable. You might see some advice to use a style like `string strValue;`. That advice is no longer current.\n",
    "\n",
    "The example `string firstName;` follows all of these rules and conventions, assuming I want to use this variable to store data that represents someone's first name.\n",
    "\n",
    "### Variable name examples\n",
    "Here's a few examples of variable declarations using the data types we learned about previously."
   ]
  },
  {
   "cell_type": "code",
   "execution_count": 8,
   "id": "cb1efec4-fe3a-433f-81b3-17b08e97be2e",
   "metadata": {},
   "outputs": [],
   "source": [
    "char userOption;\n",
    "\n",
    "int gameScore;\n",
    "\n",
    "decimal particlesPerMillion;\n",
    "\n",
    "bool processedCustomer;"
   ]
  },
  {
   "cell_type": "markdown",
   "id": "33cd11d1-cf62-4ac0-9c9f-35d4f53001c7",
   "metadata": {},
   "source": [
    "## Recap\n",
    "\n",
    "Here's the main takeaways you've learned so far about variables:\n",
    "\n",
    "* Variables are temporary values you store in the computer's memory.\n",
    "* Before you can use a variable, you have to declare it.\n",
    "* To declare a variable, you first select a data type for the kind of data you want to store, and then give the variable a name that follows the rules.\n",
    "\n",
    "Now that we know how to declare a variable, let's learn how to set, retrieve, and initialize the value of a variable.\n",
    "\n",
    "___ \n",
    "\n",
    "# Implicitly typed local variables\n",
    "\n",
    "The C# compiler affords many conveniences as you write your code. It can infer your variable's data type by its initialized value. In this unit, you'll learn about this feature, called implicitly typed local variables.\n",
    "\n",
    "## What are implicitly typed local variables?\n",
    "\n",
    "An implicitly typed local variable is created using the `var` keyword, which instructs the C# compiler to infer the type. Once the type is inferred, it's the same as if the actual data type had been used to declare the variable.\n",
    "\n",
    "In the following example, we'll declare a variable using the `var` keyword instead of the `string` keyword."
   ]
  },
  {
   "cell_type": "code",
   "execution_count": 9,
   "id": "0b6d01c3-552a-40e0-ab75-a95b933bed14",
   "metadata": {},
   "outputs": [],
   "source": [
    "var message = \"Hello World!\";"
   ]
  },
  {
   "cell_type": "markdown",
   "id": "7dde359c-e1d7-4e79-b836-3caea91938cf",
   "metadata": {},
   "source": [
    "Since the variable `message` is immediately set to the string value `\"Hello World!\"`, the C# compiler understands the intent and treats every instance of message as an instance of type string.\n",
    "\n",
    "In fact, the `message` variable is typed to be a string and can never be changed. Here, we'll attempt to set `message` to the literal decimal value of `10.0m`."
   ]
  },
  {
   "cell_type": "code",
   "execution_count": 10,
   "id": "7e4d0098-70b4-4748-b97b-873f0cd8fef7",
   "metadata": {},
   "outputs": [
    {
     "name": "stderr",
     "output_type": "stream",
     "text": [
      "\n",
      "(2,11): error CS0029: Cannot implicitly convert type 'decimal' to 'string'\n",
      "\n"
     ]
    },
    {
     "ename": "Cell not executed",
     "evalue": "compilation error",
     "output_type": "error",
     "traceback": []
    }
   ],
   "source": [
    "var message = \"Hello World!\";\n",
    "message = 10.0m"
   ]
  },
  {
   "cell_type": "markdown",
   "id": "e876313d-e0d4-43b7-ac09-ef57eb150415",
   "metadata": {},
   "source": [
    "## You can only use the var keyword if the variable is initialized.\n",
    "\n",
    "It's important to understand that the `var` keyword is dependent on the value you use to initialize the variable. If you try to use the `var` keyword without initializing the variable, you'll receive an error when you attempt to compile your code."
   ]
  },
  {
   "cell_type": "code",
   "execution_count": 11,
   "id": "9cdf9a69-c415-45f1-939f-0e95b03cee10",
   "metadata": {},
   "outputs": [
    {
     "name": "stderr",
     "output_type": "stream",
     "text": [
      "\n",
      "(1,5): error CS0818: Implicitly-typed variables must be initialized\n",
      "\n"
     ]
    },
    {
     "ename": "Cell not executed",
     "evalue": "compilation error",
     "output_type": "error",
     "traceback": []
    }
   ],
   "source": [
    "var message;"
   ]
  },
  {
   "cell_type": "markdown",
   "id": "eef0dd3f-f9a7-4af4-8126-ebdcbeb4a16b",
   "metadata": {},
   "source": [
    "### Why use the var keyword?\n",
    "\n",
    "The `var` keyword has been widely adopted in the C# community, so it's likely if you look at a code example in a book or online, you'll see the var keyword used instead of the actual data type name. So, we wanted to make sure to introduce it in this module.\n",
    "\n",
    "However, the `var` keyword has an important use in C#. For reasons that may not be clear to you until you write advanced code, there are situations where the data type may not be obvious at the time you initialize the variable. In fact, in some cases, C# may invent a new data type just for your code and may not be able to give it a predictable name ahead of time. Again, this is an advanced feature of C# that will be covered in other modules.\n",
    "\n",
    "As you get started, we recommend you continue to use the actual data type name when you declare variables. Using the data type when you declare variables will help you be purposeful as you write your code.\n",
    "\n",
    "## Recap\n",
    "\n",
    "The most important takeaways from this unit about the `var` keyword and implicitly type local variables:\n",
    "\n",
    "* The `var` keyword tells the compiler to infer the data type of the variable based on the value it is initialized to.\n",
    "* You'll likely see the `var` keyword as you read other people's code. However, you should use the data type when possible."
   ]
  },
  {
   "cell_type": "code",
   "execution_count": 12,
   "id": "95ed97f8-2b00-448d-afcc-0ff204650bb2",
   "metadata": {},
   "outputs": [
    {
     "name": "stdout",
     "output_type": "stream",
     "text": [
      "Hello, Bob! You have 3 in your inbox.  The temperature is 34.4 celsius.\n"
     ]
    }
   ],
   "source": [
    "string name = \"Bob\";\n",
    "int inbox = 3;\n",
    "decimal temperature = 34.4m;\n",
    "\n",
    "Console.WriteLine($\"Hello, {name}! You have {inbox} in your inbox.  The temperature is {temperature} celsius.\");"
   ]
  }
 ],
 "metadata": {
  "kernelspec": {
   "display_name": ".NET (C#)",
   "language": "C#",
   "name": ".net-csharp"
  },
  "language_info": {
   "file_extension": ".cs",
   "mimetype": "text/x-csharp",
   "name": "C#",
   "pygments_lexer": "csharp",
   "version": "9.0"
  }
 },
 "nbformat": 4,
 "nbformat_minor": 5
}
